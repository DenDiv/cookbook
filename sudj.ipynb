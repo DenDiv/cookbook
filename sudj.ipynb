{
 "cells": [
  {
   "cell_type": "code",
   "execution_count": 22,
   "metadata": {},
   "outputs": [
    {
     "name": "stdout",
     "output_type": "stream",
     "text": [
      "Populating the interactive namespace from numpy and matplotlib\n"
     ]
    },
    {
     "name": "stderr",
     "output_type": "stream",
     "text": [
      "C:\\Users\\divit\\Anaconda3\\lib\\site-packages\\IPython\\core\\magics\\pylab.py:160: UserWarning: pylab import has clobbered these variables: ['add']\n",
      "`%matplotlib` prevents importing * from pylab and numpy\n",
      "  \"\\n`%matplotlib` prevents importing * from pylab and numpy\"\n"
     ]
    }
   ],
   "source": [
    "import numpy as np\n",
    "import pandas as pd\n",
    "%pylab inline\n",
    "import json"
   ]
  },
  {
   "cell_type": "code",
   "execution_count": 23,
   "metadata": {},
   "outputs": [],
   "source": [
    "class TrieNode(object):\n",
    "  \n",
    "    def __init__(self, char: str):\n",
    "        self.char = char\n",
    "        self.children = []\n",
    "        self.word_finished = False"
   ]
  },
  {
   "cell_type": "code",
   "execution_count": 24,
   "metadata": {},
   "outputs": [],
   "source": [
    "def add(root, word: str):\n",
    "    word = word.lower().replace('ё', 'е')  #lower- преобразует все символы в нижний регистр, replace меняет ё на е\n",
    "    node = root\n",
    "    for char in word:\n",
    "        found_in_child = False\n",
    "        for child in node.children:\n",
    "            if child.char == char:\n",
    "                node = child\n",
    "                found_in_child = True\n",
    "                break\n",
    "        if not found_in_child:\n",
    "            new_node = TrieNode(char)\n",
    "            node.children.append(new_node)\n",
    "            node = new_node\n",
    "    node.word_finished = True\n",
    "    \n",
    "def prefix_descent(root, prefix: str):\n",
    "    node = root\n",
    "    for char in prefix:\n",
    "        char_not_found = True\n",
    "        for child in node.children:\n",
    "            if child.char == char:\n",
    "                char_not_found = False\n",
    "                node = child\n",
    "                break\n",
    "        if char_not_found:\n",
    "            return False\n",
    "    return node\n",
    "\n",
    "\n",
    "def trie_print(node, string, level, list_of_strings):\n",
    "    if node.word_finished:\n",
    "        res_string = ''.join(string)\n",
    "        list_of_strings.append(res_string)\n",
    "    else:\n",
    "        for child in node.children:\n",
    "            string.insert(level, child.char)\n",
    "            trie_print(child, string.copy(), level+1, list_of_strings)\n",
    "            string.pop()\n",
    "\n",
    "\n",
    "def suggester(root, prefix):\n",
    "    prefix = prefix.lower()\n",
    "    node = prefix_descent(root, prefix)\n",
    "    list_of_strings = []\n",
    "    string = []\n",
    "    if type(node) == bool:\n",
    "        list_of_strings.append(prefix)\n",
    "    else:\n",
    "        trie_print(node, string, 0, list_of_strings)\n",
    "        for i in range(len(list_of_strings)):\n",
    "            list_of_strings[i] = prefix + list_of_strings[i]\n",
    "    return list_of_strings   \n",
    "    "
   ]
  },
  {
   "cell_type": "code",
   "execution_count": 25,
   "metadata": {},
   "outputs": [],
   "source": [
    "def rating(root, word , number: int,data:pd.DataFrame):\n",
    "    string = suggester(root, word)\n",
    "    sugg_data = pd.DataFrame(columns =  [\"name\", \"rating\"])\n",
    "    n = len(data)\n",
    "    i = 0\n",
    "    while i < n:\n",
    "        for s in string:\n",
    "            if data.at[i, 'name'] == s:\n",
    "                sugg_data = pd.DataFrame(np.array([[data.loc[i]['name'], data.loc[i]['rating']]]), columns=['name', 'rating']).append(sugg_data, ignore_index=True)\n",
    "        i += 1\n",
    "    sugg_data['rating'] = sugg_data['rating'].apply(lambda x: int(x))\n",
    "    sugg_data = sugg_data.sort_values(['rating'], ascending=[0])\n",
    "    sugg_data = sugg_data[:number]\n",
    "    #string = sugg_data['name']\n",
    "    return list(sugg_data['name'])"
   ]
  },
  {
   "cell_type": "code",
   "execution_count": 26,
   "metadata": {},
   "outputs": [
    {
     "data": {
      "text/html": [
       "<div>\n",
       "<style scoped>\n",
       "    .dataframe tbody tr th:only-of-type {\n",
       "        vertical-align: middle;\n",
       "    }\n",
       "\n",
       "    .dataframe tbody tr th {\n",
       "        vertical-align: top;\n",
       "    }\n",
       "\n",
       "    .dataframe thead th {\n",
       "        text-align: right;\n",
       "    }\n",
       "</style>\n",
       "<table border=\"1\" class=\"dataframe\">\n",
       "  <thead>\n",
       "    <tr style=\"text-align: right;\">\n",
       "      <th></th>\n",
       "      <th>cuisine</th>\n",
       "      <th>ingredients</th>\n",
       "      <th>name</th>\n",
       "      <th>rating</th>\n",
       "    </tr>\n",
       "  </thead>\n",
       "  <tbody>\n",
       "    <tr>\n",
       "      <th>0</th>\n",
       "      <td>francuzskaya</td>\n",
       "      <td>[Яблоко, Финики, Мед, Лимонный сок, Ваниль, Со...</td>\n",
       "      <td>коблер</td>\n",
       "      <td>343</td>\n",
       "    </tr>\n",
       "    <tr>\n",
       "      <th>1</th>\n",
       "      <td>kitayskaya</td>\n",
       "      <td>[Филе куриной грудки, Апельсины, Соевый соус, ...</td>\n",
       "      <td>куриные кусочки в апельсиновом соусе с чили</td>\n",
       "      <td>13</td>\n",
       "    </tr>\n",
       "    <tr>\n",
       "      <th>2</th>\n",
       "      <td>kitayskaya</td>\n",
       "      <td>[Белое сухое вино, Соевый соус, Чеснок, Жидкий...</td>\n",
       "      <td>курица в кисло-сладком маринаде</td>\n",
       "      <td>66</td>\n",
       "    </tr>\n",
       "    <tr>\n",
       "      <th>3</th>\n",
       "      <td>armyanskaya</td>\n",
       "      <td>[Вода, Пшеничная мука, Соль, Сливочное масло, ...</td>\n",
       "      <td>армянский лаваш</td>\n",
       "      <td>569</td>\n",
       "    </tr>\n",
       "    <tr>\n",
       "      <th>4</th>\n",
       "      <td>kitayskaya</td>\n",
       "      <td>[Стебель сельдерея, Зеленый лук перья, Соевый ...</td>\n",
       "      <td>салат из сельдерея по‑китайски</td>\n",
       "      <td>62</td>\n",
       "    </tr>\n",
       "  </tbody>\n",
       "</table>\n",
       "</div>"
      ],
      "text/plain": [
       "        cuisine                                        ingredients  \\\n",
       "0  francuzskaya  [Яблоко, Финики, Мед, Лимонный сок, Ваниль, Со...   \n",
       "1    kitayskaya  [Филе куриной грудки, Апельсины, Соевый соус, ...   \n",
       "2    kitayskaya  [Белое сухое вино, Соевый соус, Чеснок, Жидкий...   \n",
       "3   armyanskaya  [Вода, Пшеничная мука, Соль, Сливочное масло, ...   \n",
       "4    kitayskaya  [Стебель сельдерея, Зеленый лук перья, Соевый ...   \n",
       "\n",
       "                                          name  rating  \n",
       "0                                       коблер     343  \n",
       "1  куриные кусочки в апельсиновом соусе с чили      13  \n",
       "2              курица в кисло-сладком маринаде      66  \n",
       "3                              армянский лаваш     569  \n",
       "4               салат из сельдерея по‑китайски      62  "
      ]
     },
     "execution_count": 26,
     "metadata": {},
     "output_type": "execute_result"
    }
   ],
   "source": [
    "data = pd.read_json('cook_dataset.json')\n",
    "data['name'] = data['name'].apply(lambda x: x.lower().replace('ё', 'е'))\n",
    "data.head()"
   ]
  },
  {
   "cell_type": "code",
   "execution_count": 33,
   "metadata": {},
   "outputs": [
    {
     "data": {
      "text/plain": [
       "'Яблоко, Финики, Мед, Лимонный сок, Ваниль, Соль, Молотый имбирь, Кешью, Пекан, Кокосовое масло'"
      ]
     },
     "execution_count": 33,
     "metadata": {},
     "output_type": "execute_result"
    }
   ],
   "source": [
    "\n",
    "my_str = ', '.join(list(data[data.name=='коблер'].ingredients)[0])\n",
    "my_str"
   ]
  },
  {
   "cell_type": "code",
   "execution_count": 7,
   "metadata": {},
   "outputs": [],
   "source": [
    "root = TrieNode('*')"
   ]
  },
  {
   "cell_type": "code",
   "execution_count": 8,
   "metadata": {},
   "outputs": [],
   "source": [
    "for i in data['name']:\n",
    "    add(root, i)"
   ]
  },
  {
   "cell_type": "code",
   "execution_count": 19,
   "metadata": {},
   "outputs": [
    {
     "data": {
      "text/plain": [
       "list"
      ]
     },
     "execution_count": 19,
     "metadata": {},
     "output_type": "execute_result"
    }
   ],
   "source": [
    "suggest = suggester(root,\"салат\")\n",
    "type(suggest)"
   ]
  },
  {
   "cell_type": "code",
   "execution_count": 21,
   "metadata": {},
   "outputs": [
    {
     "data": {
      "text/plain": [
       "['салат из красной фасоли с творожным сыром…',\n",
       " 'салат «цезарь» с чесночным майонезом',\n",
       " 'салат с перепелиными яйцами, семгой и томатами…',\n",
       " 'салат из зеленой фасоли с яйцами',\n",
       " 'салат с моцареллой и руколой',\n",
       " 'салат с семгой и перепелиными яйцами',\n",
       " 'салат с авокадо и креветками',\n",
       " 'салат «цезарь» с куриной грудкой',\n",
       " 'салат из крабовых палочек с кукурузой',\n",
       " 'салат из авокадо, томатов и базилика']"
      ]
     },
     "execution_count": 21,
     "metadata": {},
     "output_type": "execute_result"
    }
   ],
   "source": [
    "rating(root, 'салат', 10, data)"
   ]
  },
  {
   "cell_type": "code",
   "execution_count": 9,
   "metadata": {},
   "outputs": [
    {
     "data": {
      "text/html": [
       "<div>\n",
       "<style scoped>\n",
       "    .dataframe tbody tr th:only-of-type {\n",
       "        vertical-align: middle;\n",
       "    }\n",
       "\n",
       "    .dataframe tbody tr th {\n",
       "        vertical-align: top;\n",
       "    }\n",
       "\n",
       "    .dataframe thead th {\n",
       "        text-align: right;\n",
       "    }\n",
       "</style>\n",
       "<table border=\"1\" class=\"dataframe\">\n",
       "  <thead>\n",
       "    <tr style=\"text-align: right;\">\n",
       "      <th></th>\n",
       "      <th>name</th>\n",
       "      <th>rating</th>\n",
       "    </tr>\n",
       "  </thead>\n",
       "  <tbody>\n",
       "    <tr>\n",
       "      <th>4</th>\n",
       "      <td>хачапури с зеленью</td>\n",
       "      <td>2416</td>\n",
       "    </tr>\n",
       "    <tr>\n",
       "      <th>10</th>\n",
       "      <td>хачапури по‑аджарски.</td>\n",
       "      <td>2276</td>\n",
       "    </tr>\n",
       "    <tr>\n",
       "      <th>13</th>\n",
       "      <td>хачапури по‑грузински</td>\n",
       "      <td>1843</td>\n",
       "    </tr>\n",
       "    <tr>\n",
       "      <th>2</th>\n",
       "      <td>хачапури творожные</td>\n",
       "      <td>1274</td>\n",
       "    </tr>\n",
       "    <tr>\n",
       "      <th>7</th>\n",
       "      <td>хачапури по‑быстрому</td>\n",
       "      <td>879</td>\n",
       "    </tr>\n",
       "    <tr>\n",
       "      <th>5</th>\n",
       "      <td>хачапури с сулугуни</td>\n",
       "      <td>855</td>\n",
       "    </tr>\n",
       "    <tr>\n",
       "      <th>21</th>\n",
       "      <td>хачапури на кефире</td>\n",
       "      <td>810</td>\n",
       "    </tr>\n",
       "    <tr>\n",
       "      <th>20</th>\n",
       "      <td>хачапури по‑аджарски с сыром сулугуни и яйцом</td>\n",
       "      <td>688</td>\n",
       "    </tr>\n",
       "    <tr>\n",
       "      <th>17</th>\n",
       "      <td>хачапури по‑тбилисски за 5 минут</td>\n",
       "      <td>183</td>\n",
       "    </tr>\n",
       "    <tr>\n",
       "      <th>16</th>\n",
       "      <td>хачапури по‑летнему</td>\n",
       "      <td>151</td>\n",
       "    </tr>\n",
       "  </tbody>\n",
       "</table>\n",
       "</div>"
      ],
      "text/plain": [
       "                                             name  rating\n",
       "4                              хачапури с зеленью    2416\n",
       "10                          хачапури по‑аджарски.    2276\n",
       "13                          хачапури по‑грузински    1843\n",
       "2                              хачапури творожные    1274\n",
       "7                            хачапури по‑быстрому     879\n",
       "5                             хачапури с сулугуни     855\n",
       "21                             хачапури на кефире     810\n",
       "20  хачапури по‑аджарски с сыром сулугуни и яйцом     688\n",
       "17               хачапури по‑тбилисски за 5 минут     183\n",
       "16                            хачапури по‑летнему     151"
      ]
     },
     "execution_count": 9,
     "metadata": {},
     "output_type": "execute_result"
    }
   ],
   "source": [
    "rating(root, 'ХАЧАП', 10)"
   ]
  },
  {
   "cell_type": "code",
   "execution_count": null,
   "metadata": {},
   "outputs": [],
   "source": []
  },
  {
   "cell_type": "code",
   "execution_count": null,
   "metadata": {},
   "outputs": [],
   "source": []
  },
  {
   "cell_type": "code",
   "execution_count": null,
   "metadata": {},
   "outputs": [],
   "source": []
  },
  {
   "cell_type": "code",
   "execution_count": null,
   "metadata": {},
   "outputs": [],
   "source": []
  }
 ],
 "metadata": {
  "kernelspec": {
   "display_name": "Python 3",
   "language": "python",
   "name": "python3"
  },
  "language_info": {
   "codemirror_mode": {
    "name": "ipython",
    "version": 3
   },
   "file_extension": ".py",
   "mimetype": "text/x-python",
   "name": "python",
   "nbconvert_exporter": "python",
   "pygments_lexer": "ipython3",
   "version": "3.7.0"
  }
 },
 "nbformat": 4,
 "nbformat_minor": 2
}
