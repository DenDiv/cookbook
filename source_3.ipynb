{
 "cells": [
  {
   "cell_type": "code",
   "execution_count": 1,
   "metadata": {},
   "outputs": [],
   "source": [
    "import json\n",
    "from sklearn.linear_model import LogisticRegression\n",
    "import pandas as pd\n",
    "import numpy as np\n",
    "import pickle\n",
    "from sklearn.model_selection import GridSearchCV\n",
    "from sklearn.pipeline import Pipeline\n",
    "from sklearn.feature_extraction.text import TfidfTransformer, CountVectorizer\n",
    "%matplotlib inline"
   ]
  },
  {
   "cell_type": "code",
   "execution_count": 2,
   "metadata": {},
   "outputs": [],
   "source": [
    "with open('cook_dataset.json') as json_file:  \n",
    "    data = json.load(json_file)"
   ]
  },
  {
   "cell_type": "code",
   "execution_count": 3,
   "metadata": {},
   "outputs": [
    {
     "data": {
      "text/html": [
       "<div>\n",
       "<style scoped>\n",
       "    .dataframe tbody tr th:only-of-type {\n",
       "        vertical-align: middle;\n",
       "    }\n",
       "\n",
       "    .dataframe tbody tr th {\n",
       "        vertical-align: top;\n",
       "    }\n",
       "\n",
       "    .dataframe thead th {\n",
       "        text-align: right;\n",
       "    }\n",
       "</style>\n",
       "<table border=\"1\" class=\"dataframe\">\n",
       "  <thead>\n",
       "    <tr style=\"text-align: right;\">\n",
       "      <th></th>\n",
       "      <th>cuisine</th>\n",
       "      <th>ingredients</th>\n",
       "      <th>name</th>\n",
       "      <th>rating</th>\n",
       "    </tr>\n",
       "  </thead>\n",
       "  <tbody>\n",
       "    <tr>\n",
       "      <th>0</th>\n",
       "      <td>francuzskaya</td>\n",
       "      <td>[Яблоко, Финики, Мед, Лимонный сок, Ваниль, Со...</td>\n",
       "      <td>Коблер</td>\n",
       "      <td>343</td>\n",
       "    </tr>\n",
       "    <tr>\n",
       "      <th>1</th>\n",
       "      <td>kitayskaya</td>\n",
       "      <td>[Филе куриной грудки, Апельсины, Соевый соус, ...</td>\n",
       "      <td>Куриные кусочки в апельсиновом соусе с чили</td>\n",
       "      <td>13</td>\n",
       "    </tr>\n",
       "    <tr>\n",
       "      <th>2</th>\n",
       "      <td>kitayskaya</td>\n",
       "      <td>[Белое сухое вино, Соевый соус, Чеснок, Жидкий...</td>\n",
       "      <td>Курица в кисло-сладком маринаде</td>\n",
       "      <td>66</td>\n",
       "    </tr>\n",
       "    <tr>\n",
       "      <th>3</th>\n",
       "      <td>armyanskaya</td>\n",
       "      <td>[Вода, Пшеничная мука, Соль, Сливочное масло, ...</td>\n",
       "      <td>Армянский лаваш</td>\n",
       "      <td>569</td>\n",
       "    </tr>\n",
       "    <tr>\n",
       "      <th>4</th>\n",
       "      <td>kitayskaya</td>\n",
       "      <td>[Стебель сельдерея, Зеленый лук перья, Соевый ...</td>\n",
       "      <td>Салат из сельдерея по‑китайски</td>\n",
       "      <td>62</td>\n",
       "    </tr>\n",
       "  </tbody>\n",
       "</table>\n",
       "</div>"
      ],
      "text/plain": [
       "        cuisine                                        ingredients  \\\n",
       "0  francuzskaya  [Яблоко, Финики, Мед, Лимонный сок, Ваниль, Со...   \n",
       "1    kitayskaya  [Филе куриной грудки, Апельсины, Соевый соус, ...   \n",
       "2    kitayskaya  [Белое сухое вино, Соевый соус, Чеснок, Жидкий...   \n",
       "3   armyanskaya  [Вода, Пшеничная мука, Соль, Сливочное масло, ...   \n",
       "4    kitayskaya  [Стебель сельдерея, Зеленый лук перья, Соевый ...   \n",
       "\n",
       "                                          name  rating  \n",
       "0                                       Коблер     343  \n",
       "1  Куриные кусочки в апельсиновом соусе с чили      13  \n",
       "2              Курица в кисло-сладком маринаде      66  \n",
       "3                              Армянский лаваш     569  \n",
       "4               Салат из сельдерея по‑китайски      62  "
      ]
     },
     "execution_count": 3,
     "metadata": {},
     "output_type": "execute_result"
    }
   ],
   "source": [
    "df = pd.DataFrame(data)\n",
    "df.head()"
   ]
  },
  {
   "cell_type": "code",
   "execution_count": 42,
   "metadata": {},
   "outputs": [
    {
     "name": "stdout",
     "output_type": "stream",
     "text": [
      "['Яблоко Финики Мед Лимонный сок Ваниль Соль Молотый имбирь Кешью Пекан Кокосовое масло', 'Филе куриной грудки Апельсины Соевый соус Красный перец чили Чеснок Перец чили хлопьями Молотая корица Лайм', 'Белое сухое вино Соевый соус Чеснок Жидкий мед Тертый имбирь Лимон Апельсины Соль Перец черный молотый Растительное масло Курица', 'Вода Пшеничная мука Соль Сливочное масло Сухие дрожжи', 'Стебель сельдерея Зеленый лук перья Соевый соус Устричный соус Темное кунжутное масло', 'Ананас Клубника Сливки 35%-ные Сахар Горький шоколад', 'Рис Лук Морковь Вода Растительное масло Соль', 'Куриное филе Свежие шампиньоны Лук репчатый Сыр Пшеничная мука Сливки', 'Зеленый салат Свинина Красное сухое вино Яблочный уксус Соль Молотый белый перец Мускатный орех Оливковое масло Картофель Горький шоколад Личи', 'Растительное масло Черные семена горчицы Куркума Желтый горох Листья карри Сушеный перец чили Морковь Паприка Соль Перец черный молотый Рис басмати']\n",
      "Wall time: 3.51 ms\n"
     ]
    }
   ],
   "source": [
    "%%time\n",
    "full_list = list()\n",
    "for i in df['ingredients']:\n",
    "    myString = ' '.join(i)\n",
    "    full_list.append(myString)\n",
    "print((full_list[:10]))"
   ]
  },
  {
   "cell_type": "code",
   "execution_count": 21,
   "metadata": {},
   "outputs": [
    {
     "name": "stdout",
     "output_type": "stream",
     "text": [
      "Wall time: 175 ms\n"
     ]
    }
   ],
   "source": [
    "%%time\n",
    "count_vect = CountVectorizer()\n",
    "X_train_counts = count_vect.fit_transform(full_list)"
   ]
  },
  {
   "cell_type": "code",
   "execution_count": 23,
   "metadata": {},
   "outputs": [
    {
     "data": {
      "text/plain": [
       "(6104, 1838)"
      ]
     },
     "execution_count": 23,
     "metadata": {},
     "output_type": "execute_result"
    }
   ],
   "source": [
    "X_train_counts.shape"
   ]
  },
  {
   "cell_type": "code",
   "execution_count": 32,
   "metadata": {},
   "outputs": [],
   "source": [
    "from sklearn.model_selection import train_test_split\n",
    "X_train, X_test, y_train, y_test = train_test_split(X_train_tfidf, df['cuisine'], test_size=0.1, random_state=42)"
   ]
  },
  {
   "cell_type": "code",
   "execution_count": 33,
   "metadata": {},
   "outputs": [
    {
     "name": "stdout",
     "output_type": "stream",
     "text": [
      "Wall time: 706 ms\n"
     ]
    }
   ],
   "source": [
    "%%time\n",
    "clf = LogisticRegression(solver='newton-cg', multi_class='multinomial',n_jobs=1).fit(X_train, y_train)"
   ]
  },
  {
   "cell_type": "code",
   "execution_count": 35,
   "metadata": {},
   "outputs": [
    {
     "data": {
      "text/plain": [
       "0.5204582651391162"
      ]
     },
     "execution_count": 35,
     "metadata": {},
     "output_type": "execute_result"
    }
   ],
   "source": [
    "clf.score(X_test,y_test)"
   ]
  },
  {
   "cell_type": "code",
   "execution_count": 31,
   "metadata": {},
   "outputs": [
    {
     "data": {
      "text/plain": [
       "(6104, 1838)"
      ]
     },
     "execution_count": 31,
     "metadata": {},
     "output_type": "execute_result"
    }
   ],
   "source": [
    "tfidf_transformer = TfidfTransformer()\n",
    "X_train_tfidf = tfidf_transformer.fit_transform(X_train_counts)\n",
    "X_train_tfidf.shape"
   ]
  },
  {
   "cell_type": "code",
   "execution_count": null,
   "metadata": {},
   "outputs": [],
   "source": []
  }
 ],
 "metadata": {
  "kernelspec": {
   "display_name": "Python 3",
   "language": "python",
   "name": "python3"
  },
  "language_info": {
   "codemirror_mode": {
    "name": "ipython",
    "version": 3
   },
   "file_extension": ".py",
   "mimetype": "text/x-python",
   "name": "python",
   "nbconvert_exporter": "python",
   "pygments_lexer": "ipython3",
   "version": "3.7.0"
  }
 },
 "nbformat": 4,
 "nbformat_minor": 2
}
