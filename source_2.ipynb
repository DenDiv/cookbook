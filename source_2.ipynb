{
 "cells": [
  {
   "cell_type": "code",
   "execution_count": 1,
   "metadata": {},
   "outputs": [],
   "source": [
    "import json\n",
    "from sklearn.linear_model import LogisticRegression\n",
    "import pandas as pd\n",
    "import numpy as np\n",
    "import pickle\n",
    "from sklearn.model_selection import GridSearchCV\n",
    "from sklearn.pipeline import Pipeline\n",
    "%matplotlib inline"
   ]
  },
  {
   "cell_type": "code",
   "execution_count": 20,
   "metadata": {},
   "outputs": [],
   "source": [
    "with open('cook_dataset.json') as json_file:  \n",
    "    data = json.load(json_file)"
   ]
  },
  {
   "cell_type": "code",
   "execution_count": 90,
   "metadata": {},
   "outputs": [
    {
     "data": {
      "text/plain": [
       "cuisine                                                 russkaya\n",
       "ingredients    [Куриное филе, Свежие шампиньоны, Лук репчатый...\n",
       "name                             Жюльен с курицей и шампиньонами\n",
       "rating                                                      2863\n",
       "Name: 7, dtype: object"
      ]
     },
     "execution_count": 90,
     "metadata": {},
     "output_type": "execute_result"
    }
   ],
   "source": [
    "df = pd.DataFrame(data)\n",
    "df.head()\n",
    "df.loc[7]"
   ]
  },
  {
   "cell_type": "code",
   "execution_count": 4,
   "metadata": {},
   "outputs": [
    {
     "data": {
      "text/plain": [
       "14"
      ]
     },
     "execution_count": 4,
     "metadata": {},
     "output_type": "execute_result"
    }
   ],
   "source": [
    "len(df['cuisine'].unique())"
   ]
  },
  {
   "cell_type": "code",
   "execution_count": 7,
   "metadata": {},
   "outputs": [
    {
     "data": {
      "text/plain": [
       "2301"
      ]
     },
     "execution_count": 7,
     "metadata": {},
     "output_type": "execute_result"
    }
   ],
   "source": [
    "ingr = df['ingredients']\n",
    "set_of_ingr = set()\n",
    "for i in ingr:\n",
    "    set_of_ingr.update(i)"
   ]
  },
  {
   "cell_type": "code",
   "execution_count": null,
   "metadata": {},
   "outputs": [],
   "source": [
    "for i in set_of_ingr:\n",
    "    df.loc[:,i] = pd.Series(np.zeros(df.shape[0]),index=df.index)\n",
    "df.head()"
   ]
  },
  {
   "cell_type": "code",
   "execution_count": null,
   "metadata": {},
   "outputs": [],
   "source": [
    "df.shape"
   ]
  },
  {
   "cell_type": "code",
   "execution_count": null,
   "metadata": {},
   "outputs": [],
   "source": [
    "for index, row in df.iterrows():\n",
    "    for j in set_of_ingr:\n",
    "        if j in df.ingredients[index]:\n",
    "            df[j][index] = 1"
   ]
  },
  {
   "cell_type": "code",
   "execution_count": null,
   "metadata": {},
   "outputs": [],
   "source": [
    "with open('df_classif.pickle', 'wb') as f:\n",
    "    pickle.dump(df, f)"
   ]
  },
  {
   "cell_type": "markdown",
   "metadata": {},
   "source": [
    "Перебор по параметрам"
   ]
  },
  {
   "cell_type": "code",
   "execution_count": 6,
   "metadata": {},
   "outputs": [
    {
     "data": {
      "text/plain": [
       "{'C': 1, 'solver': 'newton-cg'}"
      ]
     },
     "execution_count": 6,
     "metadata": {},
     "output_type": "execute_result"
    }
   ],
   "source": [
    "parameters = {'solver':('newton-cg', 'lbfgs',), 'C':[1,10,100]}\n",
    "grid = GridSearchCV(LogisticRegression(), cv=5, n_jobs=1, param_grid=parameters)\n",
    "grid.fit(X_train, y_train)\n",
    "grid.best_params_"
   ]
  },
  {
   "cell_type": "code",
   "execution_count": 8,
   "metadata": {},
   "outputs": [
    {
     "data": {
      "text/plain": [
       "0.5057283142389526"
      ]
     },
     "execution_count": 8,
     "metadata": {},
     "output_type": "execute_result"
    }
   ],
   "source": [
    "grid.score(X_test,y_test)"
   ]
  },
  {
   "cell_type": "markdown",
   "metadata": {},
   "source": [
    "accuracy"
   ]
  },
  {
   "cell_type": "code",
   "execution_count": 2,
   "metadata": {},
   "outputs": [],
   "source": [
    "with open('df_classif.pickle', 'rb') as f:\n",
    "    df = pickle.load(f)\n",
    "df = df.loc[~df['cuisine'].isin(['armyanskaya','azerbaydzhanskaya','tayskaya','uzbekskaya'])]\n",
    "y = df['cuisine']\n",
    "df1 = df.drop(['cuisine','ingredients', 'name', 'rating'],axis=1)"
   ]
  },
  {
   "cell_type": "code",
   "execution_count": 5,
   "metadata": {},
   "outputs": [
    {
     "data": {
      "text/html": [
       "<div>\n",
       "<style scoped>\n",
       "    .dataframe tbody tr th:only-of-type {\n",
       "        vertical-align: middle;\n",
       "    }\n",
       "\n",
       "    .dataframe tbody tr th {\n",
       "        vertical-align: top;\n",
       "    }\n",
       "\n",
       "    .dataframe thead th {\n",
       "        text-align: right;\n",
       "    }\n",
       "</style>\n",
       "<table border=\"1\" class=\"dataframe\">\n",
       "  <thead>\n",
       "    <tr style=\"text-align: right;\">\n",
       "      <th></th>\n",
       "      <th>Блины</th>\n",
       "      <th>Баранья грудинка</th>\n",
       "      <th>Крутоны</th>\n",
       "      <th>Чай аньцзи байча</th>\n",
       "      <th>Грог масала</th>\n",
       "      <th>Апельсиновый ароматизатор</th>\n",
       "      <th>Финики</th>\n",
       "      <th>Соус демигляс</th>\n",
       "      <th>Филе палтуса</th>\n",
       "      <th>Черные помидоры</th>\n",
       "      <th>...</th>\n",
       "      <th>Мелкие патиссоны</th>\n",
       "      <th>Желтый карри порошок</th>\n",
       "      <th>Сушеные помидоры</th>\n",
       "      <th>Говяжья пашина</th>\n",
       "      <th>Турнепс</th>\n",
       "      <th>Мясо</th>\n",
       "      <th>Сушеный перец чили</th>\n",
       "      <th>Красный перец чили</th>\n",
       "      <th>Шоколадные пряники</th>\n",
       "      <th>Яблоки «голден»</th>\n",
       "    </tr>\n",
       "  </thead>\n",
       "  <tbody>\n",
       "    <tr>\n",
       "      <th>0</th>\n",
       "      <td>0.0</td>\n",
       "      <td>0.0</td>\n",
       "      <td>0.0</td>\n",
       "      <td>0.0</td>\n",
       "      <td>0.0</td>\n",
       "      <td>0.0</td>\n",
       "      <td>1.0</td>\n",
       "      <td>0.0</td>\n",
       "      <td>0.0</td>\n",
       "      <td>0.0</td>\n",
       "      <td>...</td>\n",
       "      <td>0.0</td>\n",
       "      <td>0.0</td>\n",
       "      <td>0.0</td>\n",
       "      <td>0.0</td>\n",
       "      <td>0.0</td>\n",
       "      <td>0.0</td>\n",
       "      <td>0.0</td>\n",
       "      <td>0.0</td>\n",
       "      <td>0.0</td>\n",
       "      <td>0.0</td>\n",
       "    </tr>\n",
       "    <tr>\n",
       "      <th>1</th>\n",
       "      <td>0.0</td>\n",
       "      <td>0.0</td>\n",
       "      <td>0.0</td>\n",
       "      <td>0.0</td>\n",
       "      <td>0.0</td>\n",
       "      <td>0.0</td>\n",
       "      <td>0.0</td>\n",
       "      <td>0.0</td>\n",
       "      <td>0.0</td>\n",
       "      <td>0.0</td>\n",
       "      <td>...</td>\n",
       "      <td>0.0</td>\n",
       "      <td>0.0</td>\n",
       "      <td>0.0</td>\n",
       "      <td>0.0</td>\n",
       "      <td>0.0</td>\n",
       "      <td>0.0</td>\n",
       "      <td>0.0</td>\n",
       "      <td>1.0</td>\n",
       "      <td>0.0</td>\n",
       "      <td>0.0</td>\n",
       "    </tr>\n",
       "    <tr>\n",
       "      <th>2</th>\n",
       "      <td>0.0</td>\n",
       "      <td>0.0</td>\n",
       "      <td>0.0</td>\n",
       "      <td>0.0</td>\n",
       "      <td>0.0</td>\n",
       "      <td>0.0</td>\n",
       "      <td>0.0</td>\n",
       "      <td>0.0</td>\n",
       "      <td>0.0</td>\n",
       "      <td>0.0</td>\n",
       "      <td>...</td>\n",
       "      <td>0.0</td>\n",
       "      <td>0.0</td>\n",
       "      <td>0.0</td>\n",
       "      <td>0.0</td>\n",
       "      <td>0.0</td>\n",
       "      <td>0.0</td>\n",
       "      <td>0.0</td>\n",
       "      <td>0.0</td>\n",
       "      <td>0.0</td>\n",
       "      <td>0.0</td>\n",
       "    </tr>\n",
       "    <tr>\n",
       "      <th>4</th>\n",
       "      <td>0.0</td>\n",
       "      <td>0.0</td>\n",
       "      <td>0.0</td>\n",
       "      <td>0.0</td>\n",
       "      <td>0.0</td>\n",
       "      <td>0.0</td>\n",
       "      <td>0.0</td>\n",
       "      <td>0.0</td>\n",
       "      <td>0.0</td>\n",
       "      <td>0.0</td>\n",
       "      <td>...</td>\n",
       "      <td>0.0</td>\n",
       "      <td>0.0</td>\n",
       "      <td>0.0</td>\n",
       "      <td>0.0</td>\n",
       "      <td>0.0</td>\n",
       "      <td>0.0</td>\n",
       "      <td>0.0</td>\n",
       "      <td>0.0</td>\n",
       "      <td>0.0</td>\n",
       "      <td>0.0</td>\n",
       "    </tr>\n",
       "    <tr>\n",
       "      <th>5</th>\n",
       "      <td>0.0</td>\n",
       "      <td>0.0</td>\n",
       "      <td>0.0</td>\n",
       "      <td>0.0</td>\n",
       "      <td>0.0</td>\n",
       "      <td>0.0</td>\n",
       "      <td>0.0</td>\n",
       "      <td>0.0</td>\n",
       "      <td>0.0</td>\n",
       "      <td>0.0</td>\n",
       "      <td>...</td>\n",
       "      <td>0.0</td>\n",
       "      <td>0.0</td>\n",
       "      <td>0.0</td>\n",
       "      <td>0.0</td>\n",
       "      <td>0.0</td>\n",
       "      <td>0.0</td>\n",
       "      <td>0.0</td>\n",
       "      <td>0.0</td>\n",
       "      <td>0.0</td>\n",
       "      <td>0.0</td>\n",
       "    </tr>\n",
       "  </tbody>\n",
       "</table>\n",
       "<p>5 rows × 2397 columns</p>\n",
       "</div>"
      ],
      "text/plain": [
       "   Блины  Баранья грудинка  Крутоны  Чай аньцзи байча  Грог масала  \\\n",
       "0    0.0               0.0      0.0               0.0          0.0   \n",
       "1    0.0               0.0      0.0               0.0          0.0   \n",
       "2    0.0               0.0      0.0               0.0          0.0   \n",
       "4    0.0               0.0      0.0               0.0          0.0   \n",
       "5    0.0               0.0      0.0               0.0          0.0   \n",
       "\n",
       "   Апельсиновый ароматизатор  Финики  Соус демигляс  Филе палтуса  \\\n",
       "0                        0.0     1.0            0.0           0.0   \n",
       "1                        0.0     0.0            0.0           0.0   \n",
       "2                        0.0     0.0            0.0           0.0   \n",
       "4                        0.0     0.0            0.0           0.0   \n",
       "5                        0.0     0.0            0.0           0.0   \n",
       "\n",
       "   Черные помидоры       ...         Мелкие патиссоны  Желтый карри порошок  \\\n",
       "0              0.0       ...                      0.0                   0.0   \n",
       "1              0.0       ...                      0.0                   0.0   \n",
       "2              0.0       ...                      0.0                   0.0   \n",
       "4              0.0       ...                      0.0                   0.0   \n",
       "5              0.0       ...                      0.0                   0.0   \n",
       "\n",
       "   Сушеные помидоры  Говяжья пашина  Турнепс  Мясо  Сушеный перец чили  \\\n",
       "0               0.0             0.0      0.0   0.0                 0.0   \n",
       "1               0.0             0.0      0.0   0.0                 0.0   \n",
       "2               0.0             0.0      0.0   0.0                 0.0   \n",
       "4               0.0             0.0      0.0   0.0                 0.0   \n",
       "5               0.0             0.0      0.0   0.0                 0.0   \n",
       "\n",
       "   Красный перец чили  Шоколадные пряники  Яблоки «голден»  \n",
       "0                 0.0                 0.0              0.0  \n",
       "1                 1.0                 0.0              0.0  \n",
       "2                 0.0                 0.0              0.0  \n",
       "4                 0.0                 0.0              0.0  \n",
       "5                 0.0                 0.0              0.0  \n",
       "\n",
       "[5 rows x 2397 columns]"
      ]
     },
     "execution_count": 5,
     "metadata": {},
     "output_type": "execute_result"
    }
   ],
   "source": [
    "df1.head()"
   ]
  },
  {
   "cell_type": "code",
   "execution_count": 3,
   "metadata": {},
   "outputs": [],
   "source": [
    "from sklearn.model_selection import train_test_split\n",
    "X_train, X_test, y_train, y_test = train_test_split(df1.values, y, test_size=0.1, random_state=42)"
   ]
  },
  {
   "cell_type": "code",
   "execution_count": 4,
   "metadata": {},
   "outputs": [
    {
     "name": "stdout",
     "output_type": "stream",
     "text": [
      "Wall time: 6.16 s\n"
     ]
    }
   ],
   "source": [
    "%%time\n",
    "clf = LogisticRegression(solver='newton-cg', multi_class='multinomial',n_jobs=1).fit(X_train, y_train)"
   ]
  },
  {
   "cell_type": "code",
   "execution_count": 5,
   "metadata": {},
   "outputs": [],
   "source": [
    "def byVal_key(kort):\n",
    "    return kort[0]"
   ]
  },
  {
   "cell_type": "code",
   "execution_count": 6,
   "metadata": {},
   "outputs": [],
   "source": [
    "def score_comp(X,y,clf,num_of_cl=3):\n",
    "    y_pred = list(clf.predict_proba(X))\n",
    "    \n",
    "    for i in range(len(y_pred)):\n",
    "        y_pred[i] = list(zip(y_pred[i],clf.classes_))\n",
    "    for i in range(len(y_pred)):\n",
    "        y_pred[i] = sorted(y_pred[i],key=byVal_key,reverse=True)\n",
    "        \n",
    "    y_res = list(range(len(y_pred)))\n",
    "    for key, val in enumerate(y):\n",
    "        y_res[key] = 0.0\n",
    "        for i in range(num_of_cl):\n",
    "            if val == y_pred[key][i][1]:\n",
    "                y_res[key] = 1.0\n",
    "                break\n",
    "    return np.mean(y_res)"
   ]
  },
  {
   "cell_type": "code",
   "execution_count": 7,
   "metadata": {},
   "outputs": [
    {
     "data": {
      "text/plain": [
       "0.7435897435897436"
      ]
     },
     "execution_count": 7,
     "metadata": {},
     "output_type": "execute_result"
    }
   ],
   "source": [
    "r2 = score_comp(X_test,y_test,clf,num_of_cl=3)\n",
    "r2"
   ]
  },
  {
   "cell_type": "code",
   "execution_count": 10,
   "metadata": {},
   "outputs": [
    {
     "data": {
      "text/plain": [
       "array(['italyanskaya', 'russkaya', 'russkaya', 'italyanskaya',\n",
       "       'gruzinskaya', 'kitayskaya', 'francuzskaya', 'meksikanskaya',\n",
       "       'sredizemnomorskaya', 'russkaya', 'russkaya', 'yaponskaya',\n",
       "       'kitayskaya', 'italyanskaya', 'russkaya', 'meksikanskaya',\n",
       "       'russkaya', 'ispanskaya', 'meksikanskaya', 'kitayskaya',\n",
       "       'italyanskaya', 'francuzskaya', 'kitayskaya', 'meksikanskaya',\n",
       "       'kitayskaya', 'russkaya', 'sredizemnomorskaya', 'russkaya',\n",
       "       'russkaya', 'russkaya', 'russkaya', 'russkaya', 'ispanskaya',\n",
       "       'russkaya', 'meksikanskaya', 'meksikanskaya', 'kitayskaya',\n",
       "       'yaponskaya', 'kitayskaya', 'gruzinskaya', 'italyanskaya',\n",
       "       'yaponskaya', 'sredizemnomorskaya', 'sredizemnomorskaya',\n",
       "       'kitayskaya', 'kitayskaya', 'russkaya', 'indiyskaya',\n",
       "       'sredizemnomorskaya', 'francuzskaya', 'francuzskaya', 'ispanskaya',\n",
       "       'russkaya', 'ispanskaya', 'italyanskaya', 'kitayskaya',\n",
       "       'indiyskaya', 'kitayskaya', 'russkaya', 'yaponskaya', 'russkaya',\n",
       "       'yaponskaya', 'indiyskaya', 'francuzskaya', 'russkaya',\n",
       "       'meksikanskaya', 'francuzskaya', 'meksikanskaya', 'kitayskaya',\n",
       "       'italyanskaya', 'russkaya', 'russkaya', 'russkaya', 'russkaya',\n",
       "       'ispanskaya', 'meksikanskaya', 'russkaya', 'ispanskaya',\n",
       "       'gruzinskaya', 'italyanskaya', 'italyanskaya', 'italyanskaya',\n",
       "       'francuzskaya', 'russkaya', 'russkaya', 'gruzinskaya',\n",
       "       'gruzinskaya', 'russkaya', 'russkaya', 'ispanskaya', 'kitayskaya',\n",
       "       'italyanskaya', 'italyanskaya', 'gruzinskaya', 'francuzskaya',\n",
       "       'sredizemnomorskaya', 'ispanskaya', 'sredizemnomorskaya',\n",
       "       'kitayskaya', 'italyanskaya', 'francuzskaya', 'italyanskaya',\n",
       "       'francuzskaya', 'sredizemnomorskaya', 'indiyskaya', 'russkaya',\n",
       "       'meksikanskaya', 'russkaya', 'kitayskaya', 'ispanskaya',\n",
       "       'indiyskaya', 'meksikanskaya', 'kitayskaya', 'ispanskaya',\n",
       "       'francuzskaya', 'meksikanskaya', 'russkaya', 'francuzskaya',\n",
       "       'meksikanskaya', 'francuzskaya', 'russkaya', 'kitayskaya',\n",
       "       'russkaya', 'russkaya', 'russkaya', 'ispanskaya',\n",
       "       'sredizemnomorskaya', 'gruzinskaya', 'ispanskaya', 'italyanskaya',\n",
       "       'kitayskaya', 'francuzskaya', 'gruzinskaya', 'yaponskaya',\n",
       "       'yaponskaya', 'kitayskaya', 'italyanskaya', 'italyanskaya',\n",
       "       'russkaya', 'russkaya', 'kitayskaya', 'ispanskaya',\n",
       "       'sredizemnomorskaya', 'italyanskaya', 'italyanskaya',\n",
       "       'sredizemnomorskaya', 'russkaya', 'ispanskaya', 'italyanskaya',\n",
       "       'russkaya', 'russkaya', 'gruzinskaya', 'indiyskaya',\n",
       "       'italyanskaya', 'italyanskaya', 'francuzskaya', 'italyanskaya',\n",
       "       'italyanskaya', 'italyanskaya', 'meksikanskaya', 'francuzskaya',\n",
       "       'meksikanskaya', 'russkaya', 'indiyskaya', 'italyanskaya',\n",
       "       'francuzskaya', 'italyanskaya', 'kitayskaya', 'gruzinskaya',\n",
       "       'sredizemnomorskaya', 'russkaya', 'ispanskaya', 'francuzskaya',\n",
       "       'russkaya', 'russkaya', 'gruzinskaya', 'meksikanskaya',\n",
       "       'italyanskaya', 'indiyskaya', 'meksikanskaya', 'francuzskaya',\n",
       "       'francuzskaya', 'gruzinskaya', 'russkaya', 'russkaya',\n",
       "       'meksikanskaya', 'gruzinskaya', 'francuzskaya', 'gruzinskaya',\n",
       "       'indiyskaya', 'meksikanskaya', 'italyanskaya', 'francuzskaya',\n",
       "       'yaponskaya', 'kitayskaya', 'indiyskaya', 'italyanskaya',\n",
       "       'italyanskaya', 'francuzskaya', 'meksikanskaya',\n",
       "       'sredizemnomorskaya', 'ispanskaya', 'francuzskaya', 'italyanskaya',\n",
       "       'sredizemnomorskaya', 'meksikanskaya', 'kitayskaya', 'russkaya',\n",
       "       'meksikanskaya', 'russkaya', 'russkaya', 'italyanskaya',\n",
       "       'russkaya', 'indiyskaya', 'francuzskaya', 'italyanskaya',\n",
       "       'russkaya', 'italyanskaya', 'meksikanskaya', 'ispanskaya',\n",
       "       'francuzskaya', 'sredizemnomorskaya', 'ispanskaya', 'ispanskaya',\n",
       "       'russkaya', 'gruzinskaya', 'francuzskaya', 'kitayskaya',\n",
       "       'ispanskaya', 'ispanskaya', 'italyanskaya', 'gruzinskaya',\n",
       "       'ispanskaya', 'russkaya', 'italyanskaya', 'russkaya', 'yaponskaya',\n",
       "       'gruzinskaya', 'meksikanskaya', 'francuzskaya', 'francuzskaya',\n",
       "       'kitayskaya', 'sredizemnomorskaya', 'francuzskaya', 'francuzskaya',\n",
       "       'francuzskaya', 'francuzskaya', 'sredizemnomorskaya',\n",
       "       'italyanskaya', 'meksikanskaya', 'gruzinskaya',\n",
       "       'sredizemnomorskaya', 'ispanskaya', 'francuzskaya', 'francuzskaya',\n",
       "       'kitayskaya', 'francuzskaya', 'kitayskaya', 'italyanskaya',\n",
       "       'francuzskaya', 'ispanskaya', 'ispanskaya', 'italyanskaya',\n",
       "       'kitayskaya', 'russkaya', 'russkaya', 'francuzskaya',\n",
       "       'italyanskaya', 'russkaya', 'francuzskaya', 'kitayskaya',\n",
       "       'sredizemnomorskaya', 'francuzskaya', 'russkaya', 'gruzinskaya',\n",
       "       'gruzinskaya', 'italyanskaya', 'ispanskaya', 'gruzinskaya',\n",
       "       'kitayskaya', 'russkaya', 'russkaya', 'russkaya', 'meksikanskaya',\n",
       "       'italyanskaya', 'russkaya', 'francuzskaya', 'gruzinskaya',\n",
       "       'sredizemnomorskaya', 'sredizemnomorskaya', 'francuzskaya',\n",
       "       'francuzskaya', 'indiyskaya', 'russkaya', 'russkaya', 'russkaya',\n",
       "       'italyanskaya', 'kitayskaya', 'russkaya', 'russkaya',\n",
       "       'francuzskaya', 'yaponskaya', 'meksikanskaya', 'francuzskaya',\n",
       "       'russkaya', 'meksikanskaya', 'yaponskaya', 'francuzskaya',\n",
       "       'meksikanskaya', 'indiyskaya', 'russkaya', 'russkaya',\n",
       "       'yaponskaya', 'gruzinskaya', 'kitayskaya', 'russkaya',\n",
       "       'meksikanskaya', 'francuzskaya', 'russkaya', 'ispanskaya',\n",
       "       'ispanskaya', 'meksikanskaya', 'yaponskaya', 'ispanskaya',\n",
       "       'francuzskaya', 'francuzskaya', 'kitayskaya', 'meksikanskaya',\n",
       "       'russkaya', 'gruzinskaya', 'russkaya', 'russkaya', 'yaponskaya',\n",
       "       'yaponskaya', 'indiyskaya', 'russkaya', 'ispanskaya', 'yaponskaya',\n",
       "       'italyanskaya', 'francuzskaya', 'gruzinskaya', 'kitayskaya',\n",
       "       'sredizemnomorskaya', 'francuzskaya', 'ispanskaya', 'gruzinskaya',\n",
       "       'francuzskaya', 'russkaya', 'russkaya', 'italyanskaya',\n",
       "       'francuzskaya', 'kitayskaya', 'francuzskaya', 'indiyskaya',\n",
       "       'francuzskaya', 'russkaya', 'sredizemnomorskaya', 'francuzskaya',\n",
       "       'yaponskaya', 'meksikanskaya', 'sredizemnomorskaya', 'kitayskaya',\n",
       "       'italyanskaya', 'yaponskaya', 'russkaya', 'italyanskaya',\n",
       "       'italyanskaya', 'kitayskaya', 'indiyskaya', 'russkaya',\n",
       "       'francuzskaya', 'francuzskaya', 'kitayskaya', 'russkaya',\n",
       "       'francuzskaya', 'kitayskaya', 'indiyskaya', 'francuzskaya',\n",
       "       'kitayskaya', 'italyanskaya', 'meksikanskaya', 'ispanskaya',\n",
       "       'kitayskaya', 'sredizemnomorskaya', 'meksikanskaya',\n",
       "       'meksikanskaya', 'meksikanskaya', 'italyanskaya', 'meksikanskaya',\n",
       "       'gruzinskaya', 'russkaya', 'meksikanskaya', 'sredizemnomorskaya',\n",
       "       'sredizemnomorskaya', 'indiyskaya', 'italyanskaya', 'francuzskaya',\n",
       "       'russkaya', 'ispanskaya', 'italyanskaya', 'yaponskaya',\n",
       "       'gruzinskaya', 'russkaya', 'francuzskaya', 'francuzskaya',\n",
       "       'sredizemnomorskaya', 'sredizemnomorskaya', 'russkaya',\n",
       "       'ispanskaya', 'kitayskaya', 'francuzskaya', 'russkaya',\n",
       "       'italyanskaya', 'italyanskaya', 'francuzskaya', 'gruzinskaya',\n",
       "       'francuzskaya', 'gruzinskaya', 'kitayskaya', 'francuzskaya',\n",
       "       'yaponskaya', 'russkaya', 'kitayskaya', 'russkaya', 'indiyskaya',\n",
       "       'russkaya', 'yaponskaya', 'yaponskaya', 'kitayskaya',\n",
       "       'francuzskaya', 'kitayskaya', 'francuzskaya', 'italyanskaya',\n",
       "       'sredizemnomorskaya', 'kitayskaya', 'gruzinskaya', 'francuzskaya',\n",
       "       'kitayskaya', 'meksikanskaya', 'indiyskaya', 'francuzskaya',\n",
       "       'russkaya', 'indiyskaya', 'kitayskaya', 'sredizemnomorskaya',\n",
       "       'kitayskaya', 'sredizemnomorskaya', 'russkaya', 'russkaya',\n",
       "       'kitayskaya', 'kitayskaya', 'sredizemnomorskaya', 'kitayskaya',\n",
       "       'yaponskaya', 'francuzskaya', 'yaponskaya', 'kitayskaya',\n",
       "       'russkaya', 'italyanskaya', 'kitayskaya', 'russkaya',\n",
       "       'meksikanskaya', 'francuzskaya', 'russkaya', 'francuzskaya',\n",
       "       'yaponskaya', 'sredizemnomorskaya', 'francuzskaya', 'russkaya',\n",
       "       'meksikanskaya', 'sredizemnomorskaya', 'ispanskaya', 'russkaya',\n",
       "       'ispanskaya', 'kitayskaya', 'sredizemnomorskaya', 'italyanskaya',\n",
       "       'francuzskaya', 'meksikanskaya', 'gruzinskaya', 'ispanskaya',\n",
       "       'russkaya', 'gruzinskaya', 'kitayskaya', 'gruzinskaya',\n",
       "       'francuzskaya', 'italyanskaya', 'ispanskaya', 'meksikanskaya',\n",
       "       'italyanskaya', 'meksikanskaya', 'indiyskaya', 'francuzskaya',\n",
       "       'meksikanskaya', 'francuzskaya', 'sredizemnomorskaya',\n",
       "       'meksikanskaya', 'russkaya', 'italyanskaya', 'sredizemnomorskaya',\n",
       "       'indiyskaya', 'kitayskaya', 'russkaya', 'yaponskaya', 'kitayskaya',\n",
       "       'francuzskaya', 'indiyskaya', 'francuzskaya', 'russkaya',\n",
       "       'kitayskaya', 'russkaya', 'kitayskaya', 'sredizemnomorskaya',\n",
       "       'russkaya', 'francuzskaya', 'kitayskaya', 'gruzinskaya',\n",
       "       'meksikanskaya', 'italyanskaya', 'meksikanskaya', 'kitayskaya',\n",
       "       'russkaya', 'russkaya', 'italyanskaya', 'meksikanskaya',\n",
       "       'russkaya', 'kitayskaya', 'indiyskaya', 'kitayskaya',\n",
       "       'sredizemnomorskaya', 'indiyskaya', 'russkaya', 'russkaya',\n",
       "       'yaponskaya', 'yaponskaya', 'kitayskaya', 'ispanskaya',\n",
       "       'indiyskaya', 'italyanskaya', 'meksikanskaya', 'kitayskaya',\n",
       "       'indiyskaya', 'kitayskaya', 'francuzskaya', 'meksikanskaya',\n",
       "       'sredizemnomorskaya'], dtype=object)"
      ]
     },
     "execution_count": 10,
     "metadata": {},
     "output_type": "execute_result"
    }
   ],
   "source": [
    "clf.predict(X_test)"
   ]
  },
  {
   "cell_type": "code",
   "execution_count": 82,
   "metadata": {},
   "outputs": [],
   "source": [
    "import re\n",
    "def pred(ingr:str,clf,ingr_l:list):\n",
    "    arr = re.split(',',ingr)\n",
    "    for i in range(len(arr)):\n",
    "        arr[i] = arr[i].capitalize()\n",
    "    for i in arr:\n",
    "        print(i)\n",
    "    test = [[]]\n",
    "    for i in ingr_l:\n",
    "        if i in arr:\n",
    "            test[0].append(1)\n",
    "        else:\n",
    "            test[0].append(0)\n",
    "    return clf.predict(test)[0]\n"
   ]
  },
  {
   "cell_type": "code",
   "execution_count": 83,
   "metadata": {},
   "outputs": [
    {
     "name": "stdout",
     "output_type": "stream",
     "text": [
      "Яблоко\n",
      "Финиmки\n",
      "Мед\n",
      "Лимонный сок\n",
      "Ваниль\n",
      "francuzskaya\n"
     ]
    }
   ],
   "source": [
    "print(pred('яблоко,Финиmки,Мед,Лимонный сок,Ваниль',clf,list(df1.columns)))"
   ]
  },
  {
   "cell_type": "code",
   "execution_count": 37,
   "metadata": {},
   "outputs": [
    {
     "data": {
      "text/plain": [
       "Index(['Блины', 'Баранья грудинка', 'Крутоны', 'Чай аньцзи байча',\n",
       "       'Грог масала', 'Апельсиновый ароматизатор', 'Финики', 'Соус демигляс',\n",
       "       'Филе палтуса', 'Черные помидоры',\n",
       "       ...\n",
       "       'Мелкие патиссоны', 'Желтый карри порошок', 'Сушеные помидоры',\n",
       "       'Говяжья пашина', 'Турнепс', 'Мясо', 'Сушеный перец чили',\n",
       "       'Красный перец чили', 'Шоколадные пряники', 'Яблоки «голден»'],\n",
       "      dtype='object', length=2397)"
      ]
     },
     "execution_count": 37,
     "metadata": {},
     "output_type": "execute_result"
    }
   ],
   "source": [
    "df1.columns"
   ]
  },
  {
   "cell_type": "code",
   "execution_count": 49,
   "metadata": {},
   "outputs": [
    {
     "ename": "TypeError",
     "evalue": "lower() takes no arguments (1 given)",
     "output_type": "error",
     "traceback": [
      "\u001b[1;31m---------------------------------------------------------------------------\u001b[0m",
      "\u001b[1;31mTypeError\u001b[0m                                 Traceback (most recent call last)",
      "\u001b[1;32m<ipython-input-49-f933b4e370b4>\u001b[0m in \u001b[0;36m<module>\u001b[1;34m()\u001b[0m\n\u001b[0;32m      1\u001b[0m \u001b[0ms\u001b[0m \u001b[1;33m=\u001b[0m \u001b[1;34m'SDASSFAD'\u001b[0m\u001b[1;33m\u001b[0m\u001b[0m\n\u001b[1;32m----> 2\u001b[1;33m \u001b[0mprint\u001b[0m\u001b[1;33m(\u001b[0m\u001b[0ms\u001b[0m\u001b[1;33m.\u001b[0m\u001b[0mlower\u001b[0m\u001b[1;33m(\u001b[0m\u001b[1;36m1\u001b[0m\u001b[1;33m)\u001b[0m\u001b[1;33m)\u001b[0m\u001b[1;33m\u001b[0m\u001b[0m\n\u001b[0m",
      "\u001b[1;31mTypeError\u001b[0m: lower() takes no arguments (1 given)"
     ]
    }
   ],
   "source": [
    "s = 'SDASSFAD'\n",
    "print(s.lower())"
   ]
  },
  {
   "cell_type": "code",
   "execution_count": null,
   "metadata": {},
   "outputs": [],
   "source": []
  }
 ],
 "metadata": {
  "kernelspec": {
   "display_name": "Python 3",
   "language": "python",
   "name": "python3"
  },
  "language_info": {
   "codemirror_mode": {
    "name": "ipython",
    "version": 3
   },
   "file_extension": ".py",
   "mimetype": "text/x-python",
   "name": "python",
   "nbconvert_exporter": "python",
   "pygments_lexer": "ipython3",
   "version": "3.7.0"
  }
 },
 "nbformat": 4,
 "nbformat_minor": 2
}
